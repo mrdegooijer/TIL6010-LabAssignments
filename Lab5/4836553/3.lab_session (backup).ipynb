{
 "cells": [
  {
   "cell_type": "markdown",
   "id": "ba7a5dd8",
   "metadata": {},
   "source": [
    "Import relevant packages here."
   ]
  },
  {
   "cell_type": "code",
   "execution_count": 1,
   "id": "6a8838bb",
   "metadata": {
    "ExecuteTime": {
     "end_time": "2023-09-18T11:47:51.362858800Z",
     "start_time": "2023-09-18T11:47:48.386421Z"
    }
   },
   "outputs": [],
   "source": [
    "import matplotlib.pyplot as plt\n",
    "import numpy as np\n",
    "import pandas as pd\n",
    "import math"
   ]
  },
  {
   "cell_type": "markdown",
   "id": "1725519c",
   "metadata": {},
   "source": [
    "Load the data and verify it is loaded correctly.\n",
    "<ul>\n",
    "    <li>Print it (head, tail, or specific rows, choose a sensible number of rows).</li>\n",
    "    <li>Compare it to the source file.</li>\n",
    "<ul>"
   ]
  },
  {
   "cell_type": "code",
   "execution_count": 2,
   "id": "aa4d5e37",
   "metadata": {
    "ExecuteTime": {
     "end_time": "2023-09-18T11:47:56.469592200Z",
     "start_time": "2023-09-18T11:47:56.357282300Z"
    }
   },
   "outputs": [
    {
     "data": {
      "text/plain": "         dv        s         a\n0 -0.743240  53.5427  1.242570\n1 -0.557230  53.6120  1.777920\n2 -0.454769  53.6541  0.544107\n3 -0.525396  53.7030 -0.294755\n4 -0.601285  53.7592 -0.290961",
      "text/html": "<div>\n<style scoped>\n    .dataframe tbody tr th:only-of-type {\n        vertical-align: middle;\n    }\n\n    .dataframe tbody tr th {\n        vertical-align: top;\n    }\n\n    .dataframe thead th {\n        text-align: right;\n    }\n</style>\n<table border=\"1\" class=\"dataframe\">\n  <thead>\n    <tr style=\"text-align: right;\">\n      <th></th>\n      <th>dv</th>\n      <th>s</th>\n      <th>a</th>\n    </tr>\n  </thead>\n  <tbody>\n    <tr>\n      <th>0</th>\n      <td>-0.743240</td>\n      <td>53.5427</td>\n      <td>1.242570</td>\n    </tr>\n    <tr>\n      <th>1</th>\n      <td>-0.557230</td>\n      <td>53.6120</td>\n      <td>1.777920</td>\n    </tr>\n    <tr>\n      <th>2</th>\n      <td>-0.454769</td>\n      <td>53.6541</td>\n      <td>0.544107</td>\n    </tr>\n    <tr>\n      <th>3</th>\n      <td>-0.525396</td>\n      <td>53.7030</td>\n      <td>-0.294755</td>\n    </tr>\n    <tr>\n      <th>4</th>\n      <td>-0.601285</td>\n      <td>53.7592</td>\n      <td>-0.290961</td>\n    </tr>\n  </tbody>\n</table>\n</div>"
     },
     "execution_count": 2,
     "metadata": {},
     "output_type": "execute_result"
    }
   ],
   "source": [
    "data = pd.read_csv(r\"C:\\Users\\Mischa de Gooijer\\OneDrive\\Python\\Python Projects\\TIL_Kek\\T5\\cf_data.csv\")\n",
    "data.head(5)\n",
    "#data = data.iloc[:50]\n",
    "\n"
   ]
  },
  {
   "cell_type": "markdown",
   "id": "0f6d5753",
   "metadata": {},
   "source": [
    "In the ensuing, you will use <code>numpy</code>.\n",
    "\n",
    "Let's create a grid for the values to plot. But first create <b>two arrays named <code>dv</code> and <code>s</code></b> using <code>numpy.linspace</code> that hold the grid values at the relevant indices in their respective dimension of the grid.\n",
    "\n",
    "Create a <b>grid named <code>a</code></b> with zeros using <code>numpy.zeros</code> in to which calculated acceleration values can be stored.<br>\n",
    "<br>\n",
    "Let the grid span:<br>\n",
    "<ul>\n",
    "    <li>Speed difference <code>dv</code> [m/s]\n",
    "        <ul>\n",
    "            <li>From -10 till 10</li>\n",
    "            <li>With 41 evenly spaced values</li>\n",
    "        </ul>\n",
    "    </li>\n",
    "    <li>Headway <code>s</code> [m]\n",
    "        <ul>\n",
    "            <li>From 0 till 200</li>\n",
    "            <li>With 21 evenly spaced values</li>\n",
    "        </ul>\n",
    "    </li>\n",
    "</ul>"
   ]
  },
  {
   "cell_type": "code",
   "execution_count": 9,
   "id": "2d52276f",
   "metadata": {
    "ExecuteTime": {
     "end_time": "2023-09-18T11:55:51.033182400Z",
     "start_time": "2023-09-18T11:55:50.936281600Z"
    }
   },
   "outputs": [
    {
     "name": "stdout",
     "output_type": "stream",
     "text": [
      "[-10.   -9.5  -9.   -8.5  -8.   -7.5  -7.   -6.5  -6.   -5.5  -5.   -4.5\n",
      "  -4.   -3.5  -3.   -2.5  -2.   -1.5  -1.   -0.5   0.    0.5   1.    1.5\n",
      "   2.    2.5   3.    3.5   4.    4.5   5.    5.5   6.    6.5   7.    7.5\n",
      "   8.    8.5   9.    9.5  10. ]\n",
      "[  0.  10.  20.  30.  40.  50.  60.  70.  80.  90. 100. 110. 120. 130.\n",
      " 140. 150. 160. 170. 180. 190. 200.]\n"
     ]
    }
   ],
   "source": [
    "dv = np.linspace(-10, 10, 41)\n",
    "s = np.linspace(0, 200, 21)\n",
    "a = np.zeros((21, 41))\n",
    "print(dv)\n",
    "print(s)"
   ]
  },
  {
   "cell_type": "markdown",
   "id": "fedab6cf",
   "metadata": {},
   "source": [
    "Create from the imported data 3 separate <code>numpy</code> arrays for each column <code>dv</code>, <code>s</code> and <code>a</code>. (We do this for speed reasons later.)\n",
    "<ul>\n",
    "    <li>Make sure to name them differently from the arrays that belong to the grid as above.</li>\n",
    "    <li>You can access the data of each column in a <code>DataFrame</code> using <code>data.xxx</code> where <code>xxx</code> is the column name (not as a string).</li>\n",
    "    <li>Use the method <code>to_numpy()</code> to convert a column to a <code>numpy</code> array.</li>\n",
    "</ul>"
   ]
  },
  {
   "cell_type": "code",
   "execution_count": 4,
   "id": "1058fc26",
   "metadata": {
    "ExecuteTime": {
     "end_time": "2023-09-18T11:48:02.857366800Z",
     "start_time": "2023-09-18T11:48:02.792616100Z"
    }
   },
   "outputs": [],
   "source": [
    "DV = data.dv.to_numpy()\n",
    "S = data.s.to_numpy()\n",
    "A = data.a.to_numpy()\n"
   ]
  },
  {
   "cell_type": "markdown",
   "id": "bbf1585a",
   "metadata": {},
   "source": [
    "Create an algorithm that calculates all the acceleration values and stores them in the grid. The algorithm is described visually in the last part of the lecture. At each grid point, it calculates a weighted mean of all measurements. The weights are given by an exponential function, based on the 'distance' between the grid point, and the measurement values of <code>dv</code> and <code>s</code>. To get you started, how many <code>for</code>-loops do you need?<br>\n",
    "<br>\n",
    "For this you will need <code>math</code>.<br>\n",
    "Use an <i>upsilon</i> of 1.5m/s and a <i>sigma</i> of 30m.<br>\n",
    "<br>\n",
    "<b>Warning:</b> This calculation may take some time. So:\n",
    "<ul>\n",
    "    <li>Print a line for each iteration of the outer-most <code>for</code>-loop that shows you the progress.</li>\n",
    "    <li>Test you code by running it only on the first 50 measurements of the data.</li>\n",
    "</ul>"
   ]
  },
  {
   "cell_type": "code",
   "execution_count": 14,
   "id": "676dd33f",
   "metadata": {
    "ExecuteTime": {
     "end_time": "2023-09-18T12:16:58.372929900Z",
     "start_time": "2023-09-18T12:14:03.169813600Z"
    }
   },
   "outputs": [],
   "source": [
    "upsilon = 1.5 #m/s\n",
    "sigma = 30 #m\n",
    "\n",
    "# for x in range(len(dv)):\n",
    "#     for y in range(len(s)):\n",
    "#         for m in dv:\n",
    "#             for n in s:\n",
    "#                 wA = []\n",
    "#                 weights = []\n",
    "#                 for l in range(10):\n",
    "#                     i = DV[l]\n",
    "#                     j = S[l]\n",
    "#                     k = A[l]\n",
    "# \n",
    "#                     weight_measurement = math.exp(-(abs(i - m)/upsilon) - (abs(j - n)/sigma))\n",
    "#                     value = weight_measurement * k\n",
    "#                     wA.append(value)\n",
    "#                     weights.append(weight_measurement)\n",
    "#                     \n",
    "# \n",
    "# \n",
    "#                 mean = sum(wA)/sum(weights)\n",
    "#                 a[y, x] = mean\n",
    "# print(a)\n",
    "\n",
    "for i in range(0, 21):\n",
    "    for j in range(0, 41):\n",
    "        total_weighted_acceleration = 0\n",
    "        total_weight = 0\n",
    "        for k in range(len(DV)):\n",
    "            distance_dv = DV[k] - dv[j]\n",
    "            distance_s = S[k] - s[i]\n",
    "            weight = math.exp(-(abs(distance_dv)/0.5) - (abs(distance_s)/10))\n",
    "            weighted_acceleration = weight * A[k]\n",
    "            total_weighted_acceleration += weighted_acceleration\n",
    "            total_weight += weight\n",
    "        a[i][j] = total_weighted_acceleration / total_weight\n"
   ]
  },
  {
   "cell_type": "markdown",
   "id": "52cbac3a",
   "metadata": {},
   "source": [
    "The following code will plot the data for you. Does it make sense when considering:\n",
    "<ul>\n",
    "    <li>Negative (slower than leader) and positive (faster than leader) speed differences?</li>\n",
    "    <li>Small and large headways?</li>\n",
    "</ul>"
   ]
  },
  {
   "cell_type": "code",
   "execution_count": 15,
   "id": "168949b8",
   "metadata": {
    "ExecuteTime": {
     "end_time": "2023-09-18T12:17:10.997329300Z",
     "start_time": "2023-09-18T12:17:10.440377100Z"
    }
   },
   "outputs": [
    {
     "data": {
      "text/plain": "<Figure size 1000x700 with 2 Axes>",
      "image/png": "[encoded data removed]"
     },
     "metadata": {},
     "output_type": "display_data"
    }
   ],
   "source": [
    "X, Y = np.meshgrid(dv, s)\n",
    "axs = plt.axes()\n",
    "p = axs.pcolor(X, Y, a, shading='nearest')\n",
    "axs.set_title('Acceleration [m/s/s]')\n",
    "axs.set_xlabel('Speed difference [m/s]')\n",
    "axs.set_ylabel('Headway [m]')\n",
    "axs.figure.colorbar(p);\n",
    "axs.figure.set_size_inches(10, 7)"
   ]
  },
  {
   "cell_type": "code",
   "execution_count": null,
   "outputs": [],
   "source": [],
   "metadata": {
    "collapsed": false
   },
   "id": "702c4293460aca36"
  }
 ],
 "metadata": {
  "kernelspec": {
   "display_name": "Python 3 (ipykernel)",
   "language": "python",
   "name": "python3"
  },
  "language_info": {
   "codemirror_mode": {
    "name": "ipython",
    "version": 3
   },
   "file_extension": ".py",
   "mimetype": "text/x-python",
   "name": "python",
   "nbconvert_exporter": "python",
   "pygments_lexer": "ipython3",
   "version": "3.10.9"
  }
 },
 "nbformat": 4,
 "nbformat_minor": 5
}
